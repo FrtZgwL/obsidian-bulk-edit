{
 "cells": [
  {
   "cell_type": "code",
   "execution_count": 45,
   "metadata": {},
   "outputs": [],
   "source": [
    "import oyaml as yaml\n",
    "import os\n",
    "from os import path\n",
    "\n",
    "class Vault():\n",
    "    def __init__(self, root_path):\n",
    "        self.ROOT_PATH = root_path\n",
    "\n",
    "    def make_change(self, change):\n",
    "        self.apply_change(change, save=True)\n",
    "\n",
    "    def preview_change(self, change):\n",
    "        self.apply_change(change, save=False)\n",
    "\n",
    "    def apply_change(self, change, save):\n",
    "        for dirpath, _, filenames in os.walk(self.ROOT_PATH):\n",
    "            for filename in filenames:\n",
    "                if filename.endswith('.md'):\n",
    "                    file_path = path.join(dirpath, filename)\n",
    "                    with open(file_path, 'r', encoding='utf-8') as file:\n",
    "                        content = file.readlines()\n",
    "\n",
    "                    frontmatter, content = Vault.extract_frontmatter(content)\n",
    "                    new_frontmatter, new_content = change(frontmatter, content)\n",
    "\n",
    "                    if save:\n",
    "                        self.save_file(file_path, new_frontmatter, new_content)\n",
    "                    else:\n",
    "                        self.print_preview(new_frontmatter, new_content)\n",
    "\n",
    "    def extract_frontmatter(content):\n",
    "        if not content:\n",
    "            return ({}, [])\n",
    "\n",
    "        frontmatter_lines = []\n",
    "        content_lines = []\n",
    "        \n",
    "        # does the file have a frontmatter?\n",
    "        if content[0].strip() == '---':\n",
    "            valid_frontmatter = False\n",
    "            for line in content[1:]:\n",
    "                if line.strip() == '---':\n",
    "                    valid_frontmatter = True\n",
    "                    break\n",
    "\n",
    "                frontmatter_lines.append(line)\n",
    "            \n",
    "            if not valid_frontmatter:\n",
    "                raise ValueError(\"Invalid frontmatter definition!\")\n",
    "            \n",
    "            frontmatter = yaml.load(''.join(frontmatter_lines), Loader=yaml.Loader) if frontmatter_lines else {}\n",
    "        \n",
    "            content_lines = content[len(frontmatter_lines) + 2:]\n",
    "        # no frontmatter, so we just return the content\n",
    "        else:\n",
    "            content_lines = content\n",
    "            frontmatter = {}\n",
    "\n",
    "\n",
    "        return (frontmatter, content_lines)\n",
    "\n",
    "    def save_file(self, file_path, frontmatter, content):\n",
    "        with open(file_path, 'w', encoding='utf-8') as file:\n",
    "            if frontmatter:\n",
    "                file.write('---\\n')\n",
    "                file.write(yaml.dump(frontmatter, default_flow_style=False))\n",
    "                file.write('---\\n')\n",
    "            file.writelines(content)\n",
    "\n",
    "    def print_preview(self, frontmatter, content):\n",
    "        print('---')\n",
    "        print(yaml.dump(frontmatter, default_flow_style=False), end='')\n",
    "        print('---')\n",
    "        print(''.join(content))\n"
   ]
  },
  {
   "cell_type": "code",
   "execution_count": 5,
   "metadata": {},
   "outputs": [
    {
     "ename": "NameError",
     "evalue": "name 'Vault' is not defined",
     "output_type": "error",
     "traceback": [
      "\u001b[0;31m---------------------------------------------------------------------------\u001b[0m",
      "\u001b[0;31mNameError\u001b[0m                                 Traceback (most recent call last)",
      "Cell \u001b[0;32mIn[5], line 15\u001b[0m\n\u001b[1;32m      1\u001b[0m sample_content \u001b[38;5;241m=\u001b[39m \u001b[38;5;124m\"\"\"\u001b[39m\u001b[38;5;124m---\u001b[39m\n\u001b[1;32m      2\u001b[0m \u001b[38;5;124mtype: \u001b[39m\u001b[38;5;124m\"\u001b[39m\u001b[38;5;124mnote\u001b[39m\u001b[38;5;124m\"\u001b[39m\n\u001b[1;32m      3\u001b[0m \u001b[38;5;124mauthors:\u001b[39m\n\u001b[0;32m   (...)\u001b[0m\n\u001b[1;32m     10\u001b[0m \n\u001b[1;32m     11\u001b[0m \u001b[38;5;124mThis is my story. It is short, and abru\u001b[39m\u001b[38;5;124m\"\"\"\u001b[39m\n\u001b[1;32m     13\u001b[0m sample_lines \u001b[38;5;241m=\u001b[39m sample_content\u001b[38;5;241m.\u001b[39msplit(\u001b[38;5;124m\"\u001b[39m\u001b[38;5;130;01m\\n\u001b[39;00m\u001b[38;5;124m\"\u001b[39m)\n\u001b[0;32m---> 15\u001b[0m frontmatter, content \u001b[38;5;241m=\u001b[39m \u001b[43mVault\u001b[49m\u001b[38;5;241m.\u001b[39mextract_frontmatter(sample_lines)\n",
      "\u001b[0;31mNameError\u001b[0m: name 'Vault' is not defined"
     ]
    }
   ],
   "source": [
    "sample_content = \"\"\"---\n",
    "type: \"note\"\n",
    "authors:\n",
    "  - \"cedric\"\n",
    "  - \"The Universe\"\n",
    "  - \"Keychron\"\n",
    "created: \"2024-10-17\"\n",
    "---\n",
    "# Hello World!\n",
    "\n",
    "This is my story. It is short, and abru\"\"\"\n",
    "\n",
    "sample_lines = sample_content.split(\"\\n\")\n",
    "\n",
    "frontmatter, content = Vault.extract_frontmatter(sample_lines)"
   ]
  },
  {
   "cell_type": "code",
   "execution_count": 43,
   "metadata": {},
   "outputs": [],
   "source": [
    "my_vault = Vault(os.getcwd())"
   ]
  },
  {
   "cell_type": "code",
   "execution_count": null,
   "metadata": {},
   "outputs": [],
   "source": [
    "my_vault.extract_frontmatter()"
   ]
  },
  {
   "cell_type": "code",
   "execution_count": 38,
   "metadata": {},
   "outputs": [],
   "source": [
    "def my_change(frontmatter, content):\n",
    "    # if \"authors\" in frontmatter and \"cedric\" in frontmatter[\"authors\"]:\n",
    "    #     content.append(\"\\n\\n...cedric was here...\")\n",
    "\n",
    "    return (frontmatter, content)"
   ]
  },
  {
   "cell_type": "code",
   "execution_count": 39,
   "metadata": {},
   "outputs": [
    {
     "name": "stdout",
     "output_type": "stream",
     "text": [
      "---\n",
      "- 'type: note\n",
      "\n",
      "  '\n",
      "- 'authors:\n",
      "\n",
      "  '\n",
      "- '- cedric\n",
      "\n",
      "  '\n",
      "- '- \"The Universe\"\n",
      "\n",
      "  '\n",
      "- '- Keychron\n",
      "\n",
      "  '\n",
      "- 'created: \"2024-10-17\"\n",
      "\n",
      "  '\n",
      "---\n",
      "# Hello World!\n",
      "\n",
      "This is my story. It is short, and abru\n"
     ]
    }
   ],
   "source": [
    "my_vault.preview_change(my_change)"
   ]
  }
 ],
 "metadata": {
  "kernelspec": {
   "display_name": "Python 3",
   "language": "python",
   "name": "python3"
  },
  "language_info": {
   "codemirror_mode": {
    "name": "ipython",
    "version": 3
   },
   "file_extension": ".py",
   "mimetype": "text/x-python",
   "name": "python",
   "nbconvert_exporter": "python",
   "pygments_lexer": "ipython3",
   "version": "3.10.12"
  }
 },
 "nbformat": 4,
 "nbformat_minor": 2
}
